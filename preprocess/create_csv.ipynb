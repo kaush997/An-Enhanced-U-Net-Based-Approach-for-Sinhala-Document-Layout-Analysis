{
 "cells": [
  {
   "cell_type": "code",
   "execution_count": null,
   "id": "initial_id",
   "metadata": {
    "collapsed": true
   },
   "outputs": [],
   "source": [
    "import os\n",
    "import pandas as pd"
   ]
  },
  {
   "metadata": {},
   "cell_type": "code",
   "outputs": [],
   "execution_count": null,
   "source": [
    "# Define paths\n",
    "images_path = './data/images'\n",
    "labels_path = './data/masks'\n",
    "output_csv_path = './data/image_mask_mapping.csv'"
   ],
   "id": "e8ffbc7436125ed5"
  },
  {
   "metadata": {},
   "cell_type": "code",
   "outputs": [],
   "execution_count": null,
   "source": [
    "# Get list of image and label files\n",
    "image_files = sorted(os.listdir(images_path))  # Sorting ensures proper order\n",
    "label_files = sorted(os.listdir(labels_path))"
   ],
   "id": "4c675fa25a9175a3"
  },
  {
   "metadata": {},
   "cell_type": "code",
   "outputs": [],
   "execution_count": null,
   "source": [
    "# Initialize a list to store image-label mappings\n",
    "mappings = []\n",
    "\n",
    "# Process each image file\n",
    "for image_file in image_files:\n",
    "    if image_file.startswith(\"Doc_\") and image_file.endswith(\".jpg\"):\n",
    "        # Extract document number from image file name\n",
    "        doc_number = int(image_file.split('_')[1].split('.')[0])\n",
    "\n",
    "        # Calculate task number by adding 30\n",
    "        task_number = doc_number + 30\n",
    "\n",
    "        # Construct label file name\n",
    "        label_file = f\"task-{task_number}_combined_colored.png\"\n",
    "\n",
    "        # Check if label file exists\n",
    "        if label_file in label_files:\n",
    "            mappings.append({\"image_name\": image_file, \"label_name\": label_file})\n",
    "        else:\n",
    "            print(f\"Warning: Label file not found for {image_file} (expected: {label_file})\")\n",
    "\n",
    "# Create a DataFrame from the mappings\n",
    "mappings_df = pd.DataFrame(mappings)\n",
    "\n",
    "# Save the DataFrame to a CSV file\n",
    "mappings_df.to_csv(output_csv_path, index=False)\n",
    "\n",
    "print(f\"CSV file created successfully at {output_csv_path}.\")"
   ],
   "id": "312b9b8d19102a0e"
  }
 ],
 "metadata": {
  "kernelspec": {
   "display_name": "Python 3",
   "language": "python",
   "name": "python3"
  },
  "language_info": {
   "codemirror_mode": {
    "name": "ipython",
    "version": 2
   },
   "file_extension": ".py",
   "mimetype": "text/x-python",
   "name": "python",
   "nbconvert_exporter": "python",
   "pygments_lexer": "ipython2",
   "version": "2.7.6"
  }
 },
 "nbformat": 4,
 "nbformat_minor": 5
}
